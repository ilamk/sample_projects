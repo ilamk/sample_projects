{
  "nbformat": 4,
  "nbformat_minor": 0,
  "metadata": {
    "colab": {
      "name": "Untitled0.ipynb",
      "provenance": [],
      "authorship_tag": "ABX9TyP6GTtr6ZyiPzQnXzTffD7L",
      "include_colab_link": true
    },
    "kernelspec": {
      "name": "python3",
      "display_name": "Python 3"
    },
    "language_info": {
      "name": "python"
    }
  },
  "cells": [
    {
      "cell_type": "markdown",
      "metadata": {
        "id": "view-in-github",
        "colab_type": "text"
      },
      "source": [
        "<a href=\"https://colab.research.google.com/github/ilamk/sample_projects/blob/main/Collatz%20Sequence.ipynb\" target=\"_parent\"><img src=\"https://colab.research.google.com/assets/colab-badge.svg\" alt=\"Open In Colab\"/></a>"
      ]
    },
    {
      "cell_type": "code",
      "source": [
        "def collatz(number):\n",
        "  global result\n",
        "  if number % 2 == 0:\n",
        "    print(number, ' // 2')\n",
        "    result = number // 2\n",
        "    return result\n",
        "  elif number % 2 == 1:\n",
        "    print('3 * ', number, ' + 1')\n",
        "    result = 3 * number + 1\n",
        "    return result\n",
        "\n",
        "while True:\n",
        "  try:\n",
        "    n = int(input('Enter a number: '))\n",
        "  except:\n",
        "    print(\"Try again\")\n",
        "    continue\n",
        "  collatz(n)\n",
        "  if result == 1:\n",
        "    print('End')\n",
        "    break"
      ],
      "metadata": {
        "colab": {
          "base_uri": "https://localhost:8080/"
        },
        "id": "gZhFAVxHH-Uj",
        "outputId": "9aecc376-0665-48db-d426-dc0b55f04d61"
      },
      "execution_count": 39,
      "outputs": [
        {
          "output_type": "stream",
          "name": "stdout",
          "text": [
            "Enter a number: iir\n",
            "Try again\n",
            "Enter a number: 2\n",
            "2  // 2\n",
            "End\n"
          ]
        }
      ]
    }
  ]
}